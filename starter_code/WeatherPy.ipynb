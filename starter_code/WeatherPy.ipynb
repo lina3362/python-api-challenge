{
 "cells": [
  {
   "cell_type": "markdown",
   "metadata": {},
   "source": [
    "# WeatherPy\n",
    "----\n",
    "\n",
    "#### Note\n",
    "* Instructions have been included for each segment. You do not have to follow them exactly, but they are included to help you think through the steps."
   ]
  },
  {
   "cell_type": "code",
   "execution_count": 23,
   "metadata": {
    "scrolled": true
   },
   "outputs": [],
   "source": [
    "# Dependencies and Setup\n",
    "import matplotlib.pyplot as plt\n",
    "import pandas as pd\n",
    "import numpy as np\n",
    "import requests\n",
    "import time\n",
    "import json\n",
    "import scipy.stats as st\n",
    "from scipy.stats import linregress\n",
    "\n",
    "# Import API key\n",
    "from api_keys import weather_api_key\n",
    "\n",
    "# Incorporated citipy to determine city based on latitude and longitude\n",
    "from citipy import citipy\n",
    "\n",
    "# Output File (CSV)\n",
    "output_data_file = \"output_data/cities.csv\"\n",
    "\n",
    "# Range of latitudes and longitudes\n",
    "lat_range = (-90, 90)\n",
    "lng_range = (-180, 180)"
   ]
  },
  {
   "cell_type": "markdown",
   "metadata": {},
   "source": [
    "## Generate Cities List"
   ]
  },
  {
   "cell_type": "code",
   "execution_count": 2,
   "metadata": {},
   "outputs": [
    {
     "name": "stdout",
     "output_type": "stream",
     "text": [
      "603\n"
     ]
    }
   ],
   "source": [
    "# List for holding lat_lngs and cities\n",
    "lat_lngs = []\n",
    "cities = []\n",
    "countries = []\n",
    "\n",
    "# Create a set of random lat and lng combinations\n",
    "lats = np.random.uniform(lat_range[0], lat_range[1], size=1500)\n",
    "lngs = np.random.uniform(lng_range[0], lng_range[1], size=1500)\n",
    "lat_lngs = zip(lats, lngs)\n",
    "\n",
    "# Identify nearest city for each lat, lng combination\n",
    "for lat_lng in lat_lngs:\n",
    "    city = citipy.nearest_city(lat_lng[0], lat_lng[1]).city_name\n",
    "    country = citipy.nearest_city(lat_lng[0], lat_lng[1]).country_code\n",
    "    # If the city is unique, then add it to a our cities list\n",
    "    if city not in cities:\n",
    "        cities.append(city)\n",
    "        countries.append(country.upper())\n",
    "        \n",
    "# Print the city count to confirm sufficient count\n",
    "print(len(cities))\n"
   ]
  },
  {
   "cell_type": "markdown",
   "metadata": {},
   "source": [
    "### Perform API Calls\n",
    "* Perform a weather check on each city using a series of successive API calls.\n",
    "* Include a print log of each city as it'sbeing processed (with the city number and city name).\n"
   ]
  },
  {
   "cell_type": "code",
   "execution_count": 12,
   "metadata": {
    "scrolled": true
   },
   "outputs": [
    {
     "name": "stdout",
     "output_type": "stream",
     "text": [
      "Beginning Data Retrieval\n",
      "--------------------------------\n",
      "Processing Record 0 of Set 1 | Barrow\n",
      "Processing Record 1 of Set 1 | Tuktoyaktuk\n",
      "Processing Record 2 of Set 1 | Esperance\n",
      "Processing Record 3 of Set 1 | Chui\n",
      "Processing Record 4 of Set 1 | Chokurdakh\n",
      "Processing Record 5 of Set 1 | Angoche\n",
      "Processing Record 6 of Set 1 | Hobart\n",
      "Processing Record 7 of Set 1 | Bluff\n",
      "Processing Record 8 of Set 1 | Rikitea\n",
      "City Not Found, Skipping...\n",
      "Processing Record 9 of Set 1 | Fairbanks\n",
      "Processing Record 10 of Set 1 | Khatanga\n",
      "City Not Found, Skipping...\n",
      "Processing Record 11 of Set 1 | Kulhudhuffushi\n",
      "City Not Found, Skipping...\n",
      "Processing Record 12 of Set 1 | Albany\n",
      "Processing Record 13 of Set 1 | Vila Franca do Campo\n",
      "Processing Record 14 of Set 1 | Cherskiy\n",
      "Processing Record 15 of Set 1 | Ushuaia\n",
      "Processing Record 16 of Set 1 | Bengkulu\n",
      "Processing Record 17 of Set 1 | Butaritari\n",
      "Processing Record 18 of Set 1 | Sitka\n",
      "City Not Found, Skipping...\n",
      "Processing Record 19 of Set 1 | New Norfolk\n",
      "City Not Found, Skipping...\n",
      "Processing Record 20 of Set 1 | Abancay\n",
      "City Not Found, Skipping...\n",
      "Processing Record 21 of Set 1 | Jacksonville Beach\n",
      "Processing Record 22 of Set 1 | Egvekinot\n",
      "Processing Record 23 of Set 1 | Jamestown\n",
      "Processing Record 24 of Set 1 | Gijón\n",
      "Processing Record 25 of Set 1 | Lorengau\n",
      "Processing Record 26 of Set 1 | Punta Arenas\n",
      "Processing Record 27 of Set 1 | Pevek\n",
      "Processing Record 28 of Set 1 | Provideniya\n",
      "Processing Record 29 of Set 1 | Thompson\n",
      "Processing Record 30 of Set 1 | Avarua\n",
      "Processing Record 31 of Set 1 | Mar del Plata\n",
      "City Not Found, Skipping...\n",
      "Processing Record 32 of Set 1 | Ugoofaaru\n",
      "Processing Record 33 of Set 1 | Severo-Kuril'sk\n",
      "Processing Record 34 of Set 1 | Jaguaruna\n",
      "Processing Record 35 of Set 1 | Lagoa\n",
      "Processing Record 36 of Set 1 | Faanui\n",
      "Processing Record 37 of Set 1 | Kahului\n",
      "Processing Record 38 of Set 1 | Yellowknife\n",
      "Processing Record 39 of Set 1 | Vaini\n",
      "Processing Record 40 of Set 1 | Ancud\n",
      "Processing Record 41 of Set 1 | Atuona\n",
      "Processing Record 42 of Set 1 | Sinnamary\n",
      "Processing Record 43 of Set 1 | Bambous Virieux\n",
      "Processing Record 44 of Set 1 | Erenhot\n",
      "Processing Record 45 of Set 1 | Cuamba\n",
      "Processing Record 46 of Set 1 | Clyde River\n",
      "Processing Record 47 of Set 1 | Port Alfred\n",
      "City Not Found, Skipping...\n",
      "Processing Record 48 of Set 1 | Finschhafen\n",
      "Processing Record 49 of Set 1 | Kumluca\n",
      "Processing Record 50 of Set 1 | Ledyard Center\n",
      "Processing Record 51 of Set 1 | Galesong\n",
      "Processing Record 52 of Set 1 | Cape Town\n",
      "Processing Record 53 of Set 1 | Santiago del Estero\n",
      "Processing Record 54 of Set 1 | Cuajinicuilapa\n",
      "Processing Record 55 of Set 1 | East London\n",
      "Processing Record 56 of Set 1 | Nikolskoye\n",
      "City Not Found, Skipping...\n",
      "Processing Record 57 of Set 1 | Kapaa\n",
      "Processing Record 58 of Set 1 | Vostok\n",
      "Processing Record 59 of Set 1 | Busselton\n",
      "City Not Found, Skipping...\n",
      "City Not Found, Skipping...\n",
      "Processing Record 60 of Set 1 | Qaanaaq\n",
      "Processing Record 61 of Set 1 | Hithadhoo\n",
      "Processing Record 62 of Set 1 | Hermanus\n",
      "Processing Record 63 of Set 1 | Gwadar\n",
      "Processing Record 64 of Set 1 | Hervey Bay\n",
      "Processing Record 65 of Set 1 | Saint-Philippe\n",
      "Processing Record 66 of Set 1 | College\n",
      "City Not Found, Skipping...\n",
      "Processing Record 67 of Set 1 | Marsh Harbour\n",
      "Processing Record 68 of Set 1 | Georgetown\n",
      "Processing Record 69 of Set 1 | Yelizovo\n",
      "City Not Found, Skipping...\n",
      "Processing Record 70 of Set 1 | Tasiilaq\n",
      "Processing Record 71 of Set 1 | Cidreira\n",
      "Processing Record 72 of Set 1 | Berbérati\n",
      "City Not Found, Skipping...\n",
      "City Not Found, Skipping...\n",
      "Processing Record 73 of Set 1 | Bonthe\n",
      "Processing Record 74 of Set 1 | Baghdad\n",
      "Processing Record 75 of Set 1 | Leningradskiy\n",
      "Processing Record 76 of Set 1 | Prince Rupert\n",
      "Processing Record 77 of Set 1 | Hualmay\n",
      "Processing Record 78 of Set 1 | Salalah\n",
      "Processing Record 79 of Set 1 | Umluj\n",
      "Processing Record 80 of Set 1 | Saint-Augustin\n",
      "Processing Record 81 of Set 1 | Bredy\n",
      "Processing Record 82 of Set 1 | Mehrān\n",
      "Processing Record 83 of Set 1 | Fortuna\n",
      "Processing Record 84 of Set 1 | Goya\n",
      "Processing Record 85 of Set 1 | Hilo\n",
      "Processing Record 86 of Set 1 | Carnarvon\n",
      "Processing Record 87 of Set 1 | Tarko-Sale\n",
      "Processing Record 88 of Set 1 | Mlonggo\n",
      "Processing Record 89 of Set 1 | Kungurtug\n",
      "Processing Record 90 of Set 1 | Port Lincoln\n",
      "Processing Record 91 of Set 1 | Buraidah\n",
      "Processing Record 92 of Set 1 | Dalvik\n",
      "Processing Record 93 of Set 1 | Hirado\n",
      "Processing Record 94 of Set 1 | Bredasdorp\n",
      "Processing Record 95 of Set 1 | Berlevåg\n",
      "Processing Record 96 of Set 1 | Phalombe\n",
      "Processing Record 97 of Set 1 | Zhezkazgan\n",
      "Processing Record 98 of Set 1 | Bethel\n",
      "Processing Record 99 of Set 1 | Yima\n",
      "City Not Found, Skipping...\n",
      "Processing Record 100 of Set 1 | Luba\n",
      "Processing Record 101 of Set 1 | Florianópolis\n",
      "Processing Record 102 of Set 1 | Pochutla\n",
      "Processing Record 103 of Set 1 | Oktyabr'skiy\n",
      "Processing Record 104 of Set 1 | Yulara\n",
      "Processing Record 105 of Set 1 | Mahébourg\n",
      "Processing Record 106 of Set 1 | Kuna\n",
      "Processing Record 107 of Set 1 | Ust-Nera\n",
      "Processing Record 108 of Set 1 | Havøysund\n",
      "Processing Record 109 of Set 1 | Nanortalik\n",
      "Processing Record 110 of Set 1 | Mandera\n",
      "Processing Record 111 of Set 1 | Gornopravdinsk\n",
      "Processing Record 112 of Set 1 | Coquimbo\n",
      "Processing Record 113 of Set 1 | Yumen\n",
      "City Not Found, Skipping...\n",
      "Processing Record 114 of Set 1 | Inhambane\n",
      "Processing Record 115 of Set 1 | Manaus\n",
      "City Not Found, Skipping...\n",
      "Processing Record 116 of Set 1 | Richards Bay\n",
      "Processing Record 117 of Set 1 | Wanning\n",
      "Processing Record 118 of Set 1 | Anadyr\n",
      "Processing Record 119 of Set 1 | Talnakh\n",
      "Processing Record 120 of Set 1 | Snezhnogorsk\n",
      "Processing Record 121 of Set 1 | Moranbah\n",
      "Processing Record 122 of Set 1 | Of\n",
      "Processing Record 123 of Set 1 | Arraial do Cabo\n",
      "Processing Record 124 of Set 1 | Narowal\n",
      "Processing Record 125 of Set 1 | Upernavik\n",
      "Processing Record 126 of Set 1 | Fraga\n",
      "Processing Record 127 of Set 1 | Ruteng\n",
      "Processing Record 128 of Set 1 | Lüderitz\n",
      "Processing Record 129 of Set 1 | Ituiutaba\n",
      "Processing Record 130 of Set 1 | Dalbandin\n",
      "Processing Record 131 of Set 1 | Puerto Ayora\n",
      "Processing Record 132 of Set 1 | Fukuechō\n",
      "Processing Record 133 of Set 1 | Qidong\n",
      "Processing Record 134 of Set 1 | Kandrian\n",
      "Processing Record 135 of Set 1 | Qaqortoq\n",
      "Processing Record 136 of Set 1 | Alexandria\n",
      "Processing Record 137 of Set 1 | Twentynine Palms\n",
      "Processing Record 138 of Set 1 | Traralgon\n",
      "Processing Record 139 of Set 1 | Labuhan\n",
      "Processing Record 140 of Set 1 | Aksu\n",
      "Processing Record 141 of Set 1 | Bariloche\n",
      "Processing Record 142 of Set 1 | Marystown\n",
      "Processing Record 143 of Set 1 | Pļaviņas\n",
      "City Not Found, Skipping...\n",
      "Processing Record 144 of Set 1 | Izhma\n",
      "Processing Record 145 of Set 1 | Port Elizabeth\n",
      "Processing Record 146 of Set 1 | Kutum\n",
      "City Not Found, Skipping...\n",
      "Processing Record 147 of Set 1 | Biltine\n",
      "Processing Record 148 of Set 1 | Paamiut\n",
      "Processing Record 149 of Set 1 | Ankang\n",
      "Processing Record 150 of Set 1 | Saskylakh\n",
      "Processing Record 151 of Set 1 | Smoky Lake\n",
      "Processing Record 152 of Set 1 | Dawei\n",
      "Processing Record 153 of Set 1 | Hofn\n",
      "Processing Record 154 of Set 1 | Castro\n",
      "Processing Record 155 of Set 1 | Adet\n",
      "Processing Record 156 of Set 1 | Klyuchi\n",
      "City Not Found, Skipping...\n",
      "Processing Record 157 of Set 1 | Hasaki\n",
      "Processing Record 158 of Set 1 | Sungai Penuh\n",
      "Processing Record 159 of Set 1 | Isangel\n",
      "City Not Found, Skipping...\n",
      "Processing Record 160 of Set 1 | Pa Sang\n",
      "City Not Found, Skipping...\n",
      "Processing Record 161 of Set 1 | Nome\n",
      "Processing Record 162 of Set 1 | Mīzan Teferī\n",
      "Processing Record 163 of Set 1 | Ojinaga\n",
      "Processing Record 164 of Set 1 | Byron Bay\n",
      "Processing Record 165 of Set 1 | Lavrentiya\n",
      "Processing Record 166 of Set 1 | Mayo\n",
      "Processing Record 167 of Set 1 | Saint Paul Harbor\n",
      "Processing Record 168 of Set 1 | Nouadhibou\n",
      "Processing Record 169 of Set 1 | Portland\n",
      "City Not Found, Skipping...\n",
      "Processing Record 170 of Set 1 | Dovolnoye\n",
      "Processing Record 171 of Set 1 | Sheridan\n",
      "Processing Record 172 of Set 1 | Atar\n",
      "Processing Record 173 of Set 1 | Darnah\n",
      "Processing Record 174 of Set 1 | Langenburg\n",
      "Processing Record 175 of Set 1 | Oistins\n",
      "Processing Record 176 of Set 1 | Tangi\n",
      "Processing Record 177 of Set 1 | Souillac\n",
      "Processing Record 178 of Set 1 | Khandyga\n"
     ]
    },
    {
     "name": "stdout",
     "output_type": "stream",
     "text": [
      "Processing Record 179 of Set 1 | Necochea\n",
      "Processing Record 180 of Set 1 | Derzhavīnsk\n",
      "Processing Record 181 of Set 1 | Sidney\n",
      "Processing Record 182 of Set 1 | Longyearbyen\n",
      "Processing Record 183 of Set 1 | Dikson\n",
      "Processing Record 184 of Set 1 | Port Hedland\n",
      "Processing Record 185 of Set 1 | Touros\n",
      "Processing Record 186 of Set 1 | Gilgit\n",
      "Processing Record 187 of Set 1 | Øksfjord\n",
      "Processing Record 188 of Set 1 | Ulladulla\n",
      "Processing Record 189 of Set 1 | Grindavik\n",
      "Processing Record 190 of Set 1 | Shorewood\n",
      "Processing Record 191 of Set 1 | Carballo\n",
      "Processing Record 192 of Set 1 | Ponta do Sol\n",
      "City Not Found, Skipping...\n",
      "Processing Record 193 of Set 1 | Faratsiho\n",
      "Processing Record 194 of Set 1 | Biskamzha\n",
      "Processing Record 195 of Set 1 | Bonavista\n",
      "Processing Record 196 of Set 1 | Glendora\n",
      "Processing Record 197 of Set 1 | Port Hardy\n",
      "Processing Record 198 of Set 1 | Qarqīn\n",
      "City Not Found, Skipping...\n",
      "Processing Record 199 of Set 1 | Houma\n",
      "City Not Found, Skipping...\n",
      "Processing Record 200 of Set 1 | Gull Lake\n",
      "Processing Record 201 of Set 1 | Alice Springs\n",
      "Processing Record 202 of Set 1 | Harper\n",
      "Processing Record 203 of Set 1 | Kenitra\n",
      "Processing Record 204 of Set 1 | Ribeira Grande\n",
      "Processing Record 205 of Set 1 | San Fernando del Valle de Catamarca\n",
      "Processing Record 206 of Set 1 | Poum\n",
      "Processing Record 207 of Set 1 | Kaitangata\n",
      "Processing Record 208 of Set 1 | Kailua\n",
      "Processing Record 209 of Set 1 | Chulumani\n",
      "Processing Record 210 of Set 1 | Gråsten\n",
      "Processing Record 211 of Set 1 | Farafangana\n",
      "Processing Record 212 of Set 1 | Rūdbār\n",
      "Processing Record 213 of Set 1 | Belaya Gora\n",
      "Processing Record 214 of Set 1 | Winnemucca\n",
      "City Not Found, Skipping...\n",
      "Processing Record 215 of Set 1 | Khasan\n",
      "Processing Record 216 of Set 1 | São João da Barra\n",
      "Processing Record 217 of Set 1 | Beringovskiy\n",
      "Processing Record 218 of Set 1 | Oranjemund\n",
      "Processing Record 219 of Set 1 | Klaksvík\n",
      "Processing Record 220 of Set 1 | Itarema\n",
      "Processing Record 221 of Set 1 | Samarai\n",
      "Processing Record 222 of Set 1 | Pisco\n",
      "Processing Record 223 of Set 1 | Dosso\n",
      "Processing Record 224 of Set 1 | Vinh\n",
      "Processing Record 225 of Set 1 | Inhuma\n",
      "Processing Record 226 of Set 1 | General Pico\n",
      "Processing Record 227 of Set 1 | Wuzhou\n",
      "City Not Found, Skipping...\n",
      "Processing Record 228 of Set 1 | Imbituba\n",
      "Processing Record 229 of Set 1 | Biak\n",
      "Processing Record 230 of Set 1 | Pechora\n",
      "Processing Record 231 of Set 1 | Mongo\n",
      "Processing Record 232 of Set 1 | El Tigre\n",
      "Processing Record 233 of Set 1 | Mumford\n",
      "Processing Record 234 of Set 1 | Tiksi\n",
      "Processing Record 235 of Set 1 | Norman Wells\n",
      "Processing Record 236 of Set 1 | Quelimane\n",
      "Processing Record 237 of Set 1 | Kokkola\n",
      "Processing Record 238 of Set 1 | Ilulissat\n",
      "Processing Record 239 of Set 1 | São Filipe\n",
      "Processing Record 240 of Set 1 | Gawler\n",
      "Processing Record 241 of Set 1 | Srednekolymsk\n",
      "Processing Record 242 of Set 1 | Saint-Joseph\n",
      "Processing Record 243 of Set 1 | Umm Kaddadah\n",
      "Processing Record 244 of Set 1 | Sokoni\n",
      "Processing Record 245 of Set 1 | Thinadhoo\n",
      "Processing Record 246 of Set 1 | Vestmannaeyjar\n",
      "Processing Record 247 of Set 1 | Luena\n",
      "Processing Record 248 of Set 1 | Rocha\n",
      "Processing Record 249 of Set 1 | San Patricio\n",
      "Processing Record 250 of Set 1 | Hailar\n",
      "Processing Record 251 of Set 1 | Copiapó\n",
      "Processing Record 252 of Set 1 | Sault Ste. Marie\n",
      "Processing Record 253 of Set 1 | Nehe\n",
      "Processing Record 254 of Set 1 | Kruisfontein\n",
      "Processing Record 255 of Set 1 | Flinders\n",
      "Processing Record 256 of Set 1 | Alice Town\n",
      "Processing Record 257 of Set 1 | Zhigansk\n",
      "Processing Record 258 of Set 1 | Sidi Ali\n",
      "Processing Record 259 of Set 1 | Rivière-du-Loup\n",
      "Processing Record 260 of Set 1 | Cabo San Lucas\n",
      "Processing Record 261 of Set 1 | Namwala\n",
      "Processing Record 262 of Set 1 | Casablanca\n",
      "Processing Record 263 of Set 1 | Soyo\n",
      "Processing Record 264 of Set 1 | Port Shepstone\n",
      "Processing Record 265 of Set 1 | Tiarei\n",
      "Processing Record 266 of Set 1 | La Orilla\n",
      "Processing Record 267 of Set 1 | Marathon\n",
      "Processing Record 268 of Set 1 | Manga\n",
      "Processing Record 269 of Set 1 | Maningrida\n",
      "Processing Record 270 of Set 1 | Bonoua\n",
      "Processing Record 271 of Set 1 | Severnoye\n",
      "Processing Record 272 of Set 1 | Kavieng\n",
      "Processing Record 273 of Set 1 | La Libertad\n",
      "Processing Record 274 of Set 1 | Torbay\n",
      "Processing Record 275 of Set 1 | Vestmanna\n",
      "Processing Record 276 of Set 1 | Saint-François\n",
      "Processing Record 277 of Set 1 | Petropavlovsk-Kamchatskiy\n",
      "Processing Record 278 of Set 1 | Vila Velha\n",
      "Processing Record 279 of Set 1 | Kassala\n",
      "Processing Record 280 of Set 1 | Kidal\n",
      "Processing Record 281 of Set 1 | Līsakovsk\n",
      "Processing Record 282 of Set 1 | Tessalit\n",
      "Processing Record 283 of Set 1 | Guerrero Negro\n",
      "Processing Record 284 of Set 1 | Puerto Rico\n",
      "Processing Record 285 of Set 1 | Lac du Bonnet\n",
      "Processing Record 286 of Set 1 | Lebu\n",
      "Processing Record 287 of Set 1 | Pau Brasil\n",
      "Processing Record 288 of Set 1 | Puerto Nariño\n",
      "Processing Record 289 of Set 1 | Olafsvik\n",
      "Processing Record 290 of Set 1 | Ulaanbaatar\n",
      "Processing Record 291 of Set 1 | Rettikhovka\n",
      "City Not Found, Skipping...\n",
      "Processing Record 292 of Set 1 | Gao\n",
      "Processing Record 293 of Set 1 | Maumere\n",
      "City Not Found, Skipping...\n",
      "City Not Found, Skipping...\n",
      "Processing Record 294 of Set 1 | Zhangaözen\n",
      "Processing Record 295 of Set 1 | Rabaul\n",
      "Processing Record 296 of Set 1 | Wenling\n",
      "Processing Record 297 of Set 1 | Sun Valley\n",
      "Processing Record 298 of Set 1 | Mao\n",
      "Processing Record 299 of Set 1 | Kalmunai\n",
      "Processing Record 300 of Set 1 | Makokou\n",
      "Processing Record 301 of Set 1 | Rawson\n",
      "Processing Record 302 of Set 1 | Tuatapere\n",
      "Processing Record 303 of Set 1 | Aranos\n",
      "Processing Record 304 of Set 1 | Bridgton\n",
      "Processing Record 305 of Set 1 | Pouébo\n",
      "Processing Record 306 of Set 1 | Kisangani\n",
      "Processing Record 307 of Set 1 | Zabaykal'sk\n",
      "Processing Record 308 of Set 1 | North Las Vegas\n",
      "Processing Record 309 of Set 1 | Talara\n",
      "City Not Found, Skipping...\n",
      "City Not Found, Skipping...\n",
      "Processing Record 310 of Set 1 | Bella Vista\n",
      "City Not Found, Skipping...\n",
      "Processing Record 311 of Set 1 | Comodoro Rivadavia\n",
      "Processing Record 312 of Set 1 | Plettenberg Bay\n",
      "Processing Record 313 of Set 1 | Formosa do Rio Preto\n",
      "Processing Record 314 of Set 1 | Salinópolis\n",
      "Processing Record 315 of Set 1 | Koulikoro\n",
      "Processing Record 316 of Set 1 | Bathsheba\n",
      "Processing Record 317 of Set 1 | Semīrom\n",
      "Processing Record 318 of Set 1 | Manuk Mangkaw\n",
      "Processing Record 319 of Set 1 | Washington\n",
      "Processing Record 320 of Set 1 | Henties Bay\n",
      "Processing Record 321 of Set 1 | Olds\n",
      "Processing Record 322 of Set 1 | Kavaratti\n",
      "Processing Record 323 of Set 1 | Chapais\n",
      "Processing Record 324 of Set 1 | Victoria\n",
      "Processing Record 325 of Set 1 | Manzanillo\n",
      "Processing Record 326 of Set 1 | Pankrushikha\n",
      "Processing Record 327 of Set 1 | Vilyuysk\n",
      "Processing Record 328 of Set 1 | Ahipara\n",
      "Processing Record 329 of Set 1 | Tazovsky\n",
      "Processing Record 330 of Set 1 | Inta\n",
      "Processing Record 331 of Set 1 | Malanje\n",
      "Processing Record 332 of Set 1 | Sovetskaya\n",
      "City Not Found, Skipping...\n",
      "Processing Record 333 of Set 1 | Ngunguru\n",
      "Processing Record 334 of Set 1 | Mercedes\n",
      "City Not Found, Skipping...\n",
      "Processing Record 335 of Set 1 | Husavik\n",
      "Processing Record 336 of Set 1 | Cururupu\n",
      "Processing Record 337 of Set 1 | Geraldton\n",
      "City Not Found, Skipping...\n",
      "Processing Record 338 of Set 1 | Chimbote\n",
      "Processing Record 339 of Set 1 | Mandiana\n",
      "Processing Record 340 of Set 1 | Popondetta\n",
      "City Not Found, Skipping...\n",
      "Processing Record 341 of Set 1 | Riyadh\n",
      "Processing Record 342 of Set 1 | Quatre Cocos\n",
      "Processing Record 343 of Set 1 | Yar-Sale\n",
      "City Not Found, Skipping...\n",
      "Processing Record 344 of Set 1 | Barvinkove\n",
      "Processing Record 345 of Set 1 | Chul'man\n",
      "Processing Record 346 of Set 1 | Sal Rei\n",
      "Processing Record 347 of Set 1 | Saint George\n",
      "City Not Found, Skipping...\n",
      "Processing Record 348 of Set 1 | Mēga\n",
      "Processing Record 349 of Set 1 | Cayenne\n",
      "Processing Record 350 of Set 1 | Korla\n",
      "Processing Record 351 of Set 1 | Guhāgar\n",
      "Processing Record 352 of Set 1 | Būlaevo\n",
      "Processing Record 353 of Set 1 | Sisimiut\n",
      "Processing Record 354 of Set 1 | Laguna\n",
      "Processing Record 355 of Set 1 | Gongzhuling\n",
      "Processing Record 356 of Set 1 | Chamonix\n",
      "Processing Record 357 of Set 1 | Aklavik\n",
      "Processing Record 358 of Set 1 | Batagay\n"
     ]
    },
    {
     "name": "stdout",
     "output_type": "stream",
     "text": [
      "Processing Record 359 of Set 1 | Ostrovnoy\n",
      "Processing Record 360 of Set 1 | Oussouye\n",
      "Processing Record 361 of Set 1 | Sakakah\n",
      "Processing Record 362 of Set 1 | Alekseyevsk\n",
      "Processing Record 363 of Set 1 | Arroyo\n",
      "Processing Record 364 of Set 1 | Jiayuguan City\n",
      "Processing Record 365 of Set 1 | Nago\n",
      "Processing Record 366 of Set 1 | Nawābganj\n",
      "Processing Record 367 of Set 1 | Kuching\n",
      "Processing Record 368 of Set 1 | Beyneu\n",
      "Processing Record 369 of Set 1 | Camaná\n",
      "Processing Record 370 of Set 1 | Te Anau\n",
      "Processing Record 371 of Set 1 | Snåase\n",
      "Processing Record 372 of Set 1 | Iqaluit\n",
      "Processing Record 373 of Set 1 | Reinosa\n",
      "City Not Found, Skipping...\n",
      "Processing Record 374 of Set 1 | Moose Factory\n",
      "Processing Record 375 of Set 1 | Coahuayana Viejo\n",
      "Processing Record 376 of Set 1 | Tual\n",
      "Processing Record 377 of Set 1 | Presidente Olegário\n",
      "Processing Record 378 of Set 1 | Ayagoz\n",
      "Processing Record 379 of Set 1 | Ca Mau\n",
      "Processing Record 380 of Set 1 | Maraã\n",
      "Processing Record 381 of Set 1 | San Cristobal\n",
      "Processing Record 382 of Set 1 | Caucayá\n",
      "Processing Record 383 of Set 1 | Inuvik\n",
      "Processing Record 384 of Set 1 | Leh\n",
      "City Not Found, Skipping...\n",
      "Processing Record 385 of Set 1 | The Valley\n",
      "City Not Found, Skipping...\n",
      "Processing Record 386 of Set 1 | Muisne\n",
      "Processing Record 387 of Set 1 | Namatanai\n",
      "Processing Record 388 of Set 1 | Linköping\n",
      "Processing Record 389 of Set 1 | Batamshinskiy\n",
      "Processing Record 390 of Set 1 | Makakilo City\n",
      "City Not Found, Skipping...\n",
      "Processing Record 391 of Set 1 | Kearney\n",
      "Processing Record 392 of Set 1 | Loughrea\n",
      "Processing Record 393 of Set 1 | Teeli\n",
      "Processing Record 394 of Set 1 | Belmonte\n",
      "Processing Record 395 of Set 1 | Paducah\n",
      "Processing Record 396 of Set 1 | Shenjiamen\n",
      "Processing Record 397 of Set 1 | Bowen\n",
      "Processing Record 398 of Set 1 | Port Keats\n",
      "Processing Record 399 of Set 1 | Auki\n",
      "Processing Record 400 of Set 1 | Smirnykh\n",
      "Processing Record 401 of Set 1 | San Juan\n",
      "Processing Record 402 of Set 1 | Kardamena\n",
      "Processing Record 403 of Set 1 | Palmas Bellas\n",
      "Processing Record 404 of Set 1 | Naze\n",
      "Processing Record 405 of Set 1 | Tomari\n",
      "City Not Found, Skipping...\n",
      "Processing Record 406 of Set 1 | Taoudenni\n",
      "Processing Record 407 of Set 1 | Acapulco de Juárez\n",
      "City Not Found, Skipping...\n",
      "Processing Record 408 of Set 1 | Saldanha\n",
      "Processing Record 409 of Set 1 | Gushikawa\n",
      "Processing Record 410 of Set 1 | Yamoto\n",
      "Processing Record 411 of Set 1 | Bundaberg\n",
      "Processing Record 412 of Set 1 | Whitehorse\n",
      "Processing Record 413 of Set 1 | Qui Nhon\n",
      "Processing Record 414 of Set 1 | Margate\n",
      "City Not Found, Skipping...\n",
      "Processing Record 415 of Set 1 | Katobu\n",
      "Processing Record 416 of Set 1 | Minuri\n",
      "Processing Record 417 of Set 1 | Hukuntsi\n",
      "Processing Record 418 of Set 1 | Ushtobe\n",
      "Processing Record 419 of Set 1 | Dudinka\n",
      "Processing Record 420 of Set 1 | Sundumbili\n",
      "Processing Record 421 of Set 1 | Penzance\n",
      "Processing Record 422 of Set 1 | Barra do Garças\n",
      "Processing Record 423 of Set 1 | Lebedinyy\n",
      "Processing Record 424 of Set 1 | Tūkrah\n",
      "City Not Found, Skipping...\n",
      "Processing Record 425 of Set 1 | Fort Nelson\n",
      "Processing Record 426 of Set 1 | Kitui\n",
      "Processing Record 427 of Set 1 | Malé\n",
      "Processing Record 428 of Set 1 | Asilah\n",
      "Processing Record 429 of Set 1 | Karratha\n",
      "Processing Record 430 of Set 1 | Shemonaīkha\n",
      "Processing Record 431 of Set 1 | Kota Kinabalu\n",
      "Processing Record 432 of Set 1 | Svetlogorsk\n",
      "Processing Record 433 of Set 1 | Kāvali\n",
      "Processing Record 434 of Set 1 | Sagamu\n",
      "Processing Record 435 of Set 1 | Berdigestyakh\n",
      "Processing Record 436 of Set 1 | Gusinoye Ozero\n",
      "Processing Record 437 of Set 1 | Teya\n",
      "Processing Record 438 of Set 1 | Adrar\n",
      "Processing Record 439 of Set 1 | Rantepao\n",
      "Processing Record 440 of Set 1 | Puro\n",
      "Processing Record 441 of Set 1 | Mazyr\n",
      "Processing Record 442 of Set 1 | Half Moon Bay\n",
      "Processing Record 443 of Set 1 | Shangzhi\n",
      "Processing Record 444 of Set 1 | Siderno\n",
      "Processing Record 445 of Set 1 | Pangnirtung\n",
      "City Not Found, Skipping...\n",
      "Processing Record 446 of Set 1 | Tulum\n",
      "Processing Record 447 of Set 1 | Afşin\n",
      "Processing Record 448 of Set 1 | Krasnoshchekovo\n",
      "Processing Record 449 of Set 1 | Kangaatsiaq\n",
      "Processing Record 450 of Set 1 | Nizhnyaya Poyma\n",
      "Processing Record 451 of Set 1 | Nuuk\n",
      "Processing Record 452 of Set 1 | Rio Verde de Mato Grosso\n",
      "Processing Record 453 of Set 1 | Cruzília\n",
      "Processing Record 454 of Set 1 | Kamaishi\n",
      "Processing Record 455 of Set 1 | Kosh-Agach\n",
      "Processing Record 456 of Set 1 | Eureka\n",
      "Processing Record 457 of Set 1 | Tabou\n",
      "Processing Record 458 of Set 1 | Porto Novo\n",
      "Processing Record 459 of Set 1 | Esim\n",
      "Processing Record 460 of Set 1 | Viedma\n",
      "Processing Record 461 of Set 1 | Hazaribagh\n",
      "Processing Record 462 of Set 1 | Dunedin\n",
      "Processing Record 463 of Set 1 | Linhares\n",
      "Processing Record 464 of Set 1 | Severomorsk\n",
      "Processing Record 465 of Set 1 | Arkhangelsk\n",
      "Processing Record 466 of Set 1 | São Miguel do Araguaia\n",
      "Processing Record 467 of Set 1 | Manzhouli\n",
      "Processing Record 468 of Set 1 | Masumbwe\n",
      "Processing Record 469 of Set 1 | Roboré\n",
      "Processing Record 470 of Set 1 | Misratah\n",
      "Processing Record 471 of Set 1 | Ixtapa\n",
      "Processing Record 472 of Set 1 | La Ronge\n",
      "Processing Record 473 of Set 1 | Oruzgan\n",
      "Processing Record 474 of Set 1 | Praia da Vitória\n",
      "Processing Record 475 of Set 1 | Haines Junction\n",
      "Processing Record 476 of Set 1 | Ponta Delgada\n",
      "Processing Record 477 of Set 1 | Narsaq\n",
      "City Not Found, Skipping...\n",
      "Processing Record 478 of Set 1 | Lázaro Cárdenas\n",
      "Processing Record 479 of Set 1 | Luganville\n",
      "Processing Record 480 of Set 1 | Llanes\n",
      "Processing Record 481 of Set 1 | Coyhaique\n",
      "Processing Record 482 of Set 1 | Dossor\n",
      "Processing Record 483 of Set 1 | Port-Gentil\n",
      "Processing Record 484 of Set 1 | Taitung City\n",
      "Processing Record 485 of Set 1 | Kampot\n",
      "Processing Record 486 of Set 1 | Xincheng\n",
      "Processing Record 487 of Set 1 | Magdagachi\n",
      "Processing Record 488 of Set 1 | Nchelenge\n",
      "City Not Found, Skipping...\n",
      "City Not Found, Skipping...\n",
      "Processing Record 489 of Set 1 | Aksarka\n",
      "Processing Record 490 of Set 1 | Lahān\n",
      "City Not Found, Skipping...\n",
      "Processing Record 491 of Set 1 | Cabedelo\n",
      "Processing Record 492 of Set 1 | Sola\n",
      "Processing Record 493 of Set 1 | San Julian\n",
      "Processing Record 494 of Set 1 | Kalabo\n",
      "Processing Record 495 of Set 1 | Springbok\n",
      "Processing Record 496 of Set 1 | Alofi\n",
      "City Not Found, Skipping...\n",
      "Processing Record 497 of Set 1 | Salinas\n",
      "Processing Record 498 of Set 1 | Hvolsvollur\n",
      "Processing Record 499 of Set 1 | Pujali\n",
      "Processing Record 500 of Set 1 | Majene\n",
      "Processing Record 501 of Set 1 | Sechura\n",
      "Processing Record 502 of Set 1 | Moineşti\n",
      "Processing Record 503 of Set 1 | Pano Aqil\n",
      "Processing Record 504 of Set 1 | Kedrovyy\n",
      "Processing Record 505 of Set 1 | Dolores\n",
      "Processing Record 506 of Set 1 | Bemidji\n",
      "Processing Record 507 of Set 1 | Kimbe\n",
      "Processing Record 508 of Set 1 | Mingshui\n",
      "Processing Record 509 of Set 1 | Muleba\n",
      "Processing Record 510 of Set 1 | Lixouri\n",
      "Processing Record 511 of Set 1 | Komsomol'skiy\n",
      "City Not Found, Skipping...\n",
      "Processing Record 512 of Set 1 | Shimokizukuri\n",
      "Processing Record 513 of Set 1 | San Jeronimo\n",
      "Processing Record 514 of Set 1 | La Asuncion\n",
      "City Not Found, Skipping...\n",
      "Processing Record 515 of Set 1 | Katsuura\n",
      "Processing Record 516 of Set 1 | Sumenep\n",
      "City Not Found, Skipping...\n",
      "Processing Record 517 of Set 1 | Meulaboh\n",
      "Processing Record 518 of Set 1 | Baruun-Urt\n",
      "Processing Record 519 of Set 1 | Grandview\n",
      "Processing Record 520 of Set 1 | Lombog\n",
      "Processing Record 521 of Set 1 | Sept-Îles\n",
      "Processing Record 522 of Set 1 | Ketchikan\n",
      "Processing Record 523 of Set 1 | Visnes\n",
      "Processing Record 524 of Set 1 | Saint-Georges\n",
      "Processing Record 525 of Set 1 | Rongcheng\n",
      "City Not Found, Skipping...\n",
      "Processing Record 526 of Set 1 | Kasongo\n",
      "Processing Record 527 of Set 1 | Pimentel\n",
      "Processing Record 528 of Set 1 | Znamenskoye\n",
      "Processing Record 529 of Set 1 | Pak Chong\n",
      "Processing Record 530 of Set 1 | Sayyan\n",
      "Processing Record 531 of Set 1 | Evensk\n",
      "Processing Record 532 of Set 1 | Hobyo\n",
      "Processing Record 533 of Set 1 | Aden\n",
      "Processing Record 534 of Set 1 | Chumikan\n",
      "Processing Record 535 of Set 1 | Iralaya\n",
      "Processing Record 536 of Set 1 | Wattegama\n",
      "Processing Record 537 of Set 1 | Siguiri\n",
      "Processing Record 538 of Set 1 | Deputatsky\n",
      "Processing Record 539 of Set 1 | Kattivākkam\n"
     ]
    },
    {
     "name": "stdout",
     "output_type": "stream",
     "text": [
      "City Not Found, Skipping...\n",
      "Processing Record 540 of Set 1 | Kirakira\n",
      "Processing Record 541 of Set 1 | Saint-Honoré\n",
      "Processing Record 542 of Set 1 | Bartica\n",
      "-------------------------\n",
      "Data Retrieval Complete\n",
      "-------------------------\n"
     ]
    }
   ],
   "source": [
    "index_counter = 0\n",
    "set_counter = 1\n",
    "\n",
    "#set up base url\n",
    "base_url = 'http://api.openweathermap.org/data/2.5/weather?units=imperial&q='\n",
    "\n",
    "print(\"Beginning Data Retrieval\")\n",
    "print(\"--------------------------------\")\n",
    "\n",
    "for index, row in city_weather.iterrows():\n",
    "    query_url = base_url + row['City'] + ',' +row['Country'] + '&APPID=' + weather_api_key\n",
    "    \n",
    "    # extract results \n",
    "    response = requests.get(query_url).json()\n",
    "    \n",
    "    try:\n",
    "        \n",
    "        print(f\"Processing Record {index_counter} of Set {set_counter} | {response['name']}\")\n",
    "        \n",
    "        #input data into the dataframe\n",
    "        city_weather.loc[index, 'Cloudiness'] = response['clouds']['all']\n",
    "        city_weather.loc[index, 'Date'] = response['dt']\n",
    "        city_weather.loc[index, 'Humidity'] = response['main']['humidity']\n",
    "        city_weather.loc[index, 'Lat'] = response['coord']['lat']\n",
    "        city_weather.loc[index, 'Lng'] = response['coord']['lon']\n",
    "        city_weather.loc[index, 'Max Temp'] = response['main']['temp_max']\n",
    "        city_weather.loc[index, 'Windspeed'] = response['wind']['speed']\n",
    "        \n",
    "        index_counter += 1\n",
    "    except (KeyError, IndexError):\n",
    "        print(\"City Not Found, Skipping...\")\n",
    "        \n",
    "        \n",
    "print(\"-------------------------\")\n",
    "print(\"Data Retrieval Complete\")\n",
    "print(\"-------------------------\")\n"
   ]
  },
  {
   "cell_type": "markdown",
   "metadata": {},
   "source": [
    "### Convert Raw Data to DataFrame\n",
    "* Export the city data into a .csv.\n",
    "* Display the DataFrame"
   ]
  },
  {
   "cell_type": "code",
   "execution_count": 41,
   "metadata": {},
   "outputs": [
    {
     "data": {
      "text/html": [
       "<div>\n",
       "<style scoped>\n",
       "    .dataframe tbody tr th:only-of-type {\n",
       "        vertical-align: middle;\n",
       "    }\n",
       "\n",
       "    .dataframe tbody tr th {\n",
       "        vertical-align: top;\n",
       "    }\n",
       "\n",
       "    .dataframe thead th {\n",
       "        text-align: right;\n",
       "    }\n",
       "</style>\n",
       "<table border=\"1\" class=\"dataframe\">\n",
       "  <thead>\n",
       "    <tr style=\"text-align: right;\">\n",
       "      <th></th>\n",
       "      <th>City</th>\n",
       "      <th>Lat</th>\n",
       "      <th>Lng</th>\n",
       "      <th>Max Temp</th>\n",
       "      <th>Humidity</th>\n",
       "      <th>Cloudiness</th>\n",
       "      <th>Wind Speed</th>\n",
       "      <th>Country</th>\n",
       "      <th>Date</th>\n",
       "    </tr>\n",
       "  </thead>\n",
       "  <tbody>\n",
       "    <tr>\n",
       "      <th>0</th>\n",
       "      <td>ostrovnoy</td>\n",
       "      <td>68.05</td>\n",
       "      <td>39.51</td>\n",
       "      <td>37.50</td>\n",
       "      <td>72</td>\n",
       "      <td>2</td>\n",
       "      <td>7.16</td>\n",
       "      <td>RU</td>\n",
       "      <td>1558378754</td>\n",
       "    </tr>\n",
       "    <tr>\n",
       "      <th>1</th>\n",
       "      <td>mahebourg</td>\n",
       "      <td>-20.41</td>\n",
       "      <td>57.70</td>\n",
       "      <td>78.80</td>\n",
       "      <td>74</td>\n",
       "      <td>75</td>\n",
       "      <td>11.41</td>\n",
       "      <td>MU</td>\n",
       "      <td>1558378503</td>\n",
       "    </tr>\n",
       "    <tr>\n",
       "      <th>2</th>\n",
       "      <td>qaanaaq</td>\n",
       "      <td>77.48</td>\n",
       "      <td>-69.36</td>\n",
       "      <td>22.20</td>\n",
       "      <td>73</td>\n",
       "      <td>25</td>\n",
       "      <td>2.37</td>\n",
       "      <td>GL</td>\n",
       "      <td>1558378755</td>\n",
       "    </tr>\n",
       "    <tr>\n",
       "      <th>3</th>\n",
       "      <td>zhuhai</td>\n",
       "      <td>40.71</td>\n",
       "      <td>112.04</td>\n",
       "      <td>44.60</td>\n",
       "      <td>39</td>\n",
       "      <td>0</td>\n",
       "      <td>4.47</td>\n",
       "      <td>CN</td>\n",
       "      <td>1558378755</td>\n",
       "    </tr>\n",
       "    <tr>\n",
       "      <th>4</th>\n",
       "      <td>cape town</td>\n",
       "      <td>-33.93</td>\n",
       "      <td>18.42</td>\n",
       "      <td>55.99</td>\n",
       "      <td>76</td>\n",
       "      <td>20</td>\n",
       "      <td>8.05</td>\n",
       "      <td>ZA</td>\n",
       "      <td>1558378755</td>\n",
       "    </tr>\n",
       "    <tr>\n",
       "      <th>...</th>\n",
       "      <td>...</td>\n",
       "      <td>...</td>\n",
       "      <td>...</td>\n",
       "      <td>...</td>\n",
       "      <td>...</td>\n",
       "      <td>...</td>\n",
       "      <td>...</td>\n",
       "      <td>...</td>\n",
       "      <td>...</td>\n",
       "    </tr>\n",
       "    <tr>\n",
       "      <th>543</th>\n",
       "      <td>yabrud</td>\n",
       "      <td>33.97</td>\n",
       "      <td>36.66</td>\n",
       "      <td>80.60</td>\n",
       "      <td>32</td>\n",
       "      <td>0</td>\n",
       "      <td>8.05</td>\n",
       "      <td>SY</td>\n",
       "      <td>1558378840</td>\n",
       "    </tr>\n",
       "    <tr>\n",
       "      <th>544</th>\n",
       "      <td>paraiso</td>\n",
       "      <td>24.01</td>\n",
       "      <td>-104.61</td>\n",
       "      <td>84.20</td>\n",
       "      <td>4</td>\n",
       "      <td>5</td>\n",
       "      <td>16.11</td>\n",
       "      <td>MX</td>\n",
       "      <td>1558378898</td>\n",
       "    </tr>\n",
       "    <tr>\n",
       "      <th>545</th>\n",
       "      <td>veraval</td>\n",
       "      <td>49.65</td>\n",
       "      <td>0.71</td>\n",
       "      <td>61.00</td>\n",
       "      <td>62</td>\n",
       "      <td>0</td>\n",
       "      <td>8.05</td>\n",
       "      <td>FR</td>\n",
       "      <td>1558378898</td>\n",
       "    </tr>\n",
       "    <tr>\n",
       "      <th>546</th>\n",
       "      <td>novyy urgal</td>\n",
       "      <td>51.07</td>\n",
       "      <td>132.56</td>\n",
       "      <td>49.74</td>\n",
       "      <td>93</td>\n",
       "      <td>100</td>\n",
       "      <td>2.68</td>\n",
       "      <td>RU</td>\n",
       "      <td>1558378899</td>\n",
       "    </tr>\n",
       "    <tr>\n",
       "      <th>547</th>\n",
       "      <td>tongren</td>\n",
       "      <td>27.72</td>\n",
       "      <td>109.18</td>\n",
       "      <td>55.86</td>\n",
       "      <td>64</td>\n",
       "      <td>4</td>\n",
       "      <td>2.84</td>\n",
       "      <td>CN</td>\n",
       "      <td>1558378899</td>\n",
       "    </tr>\n",
       "  </tbody>\n",
       "</table>\n",
       "<p>548 rows × 9 columns</p>\n",
       "</div>"
      ],
      "text/plain": [
       "            City    Lat     Lng  Max Temp  Humidity  Cloudiness  Wind Speed  \\\n",
       "0      ostrovnoy  68.05   39.51     37.50        72           2        7.16   \n",
       "1      mahebourg -20.41   57.70     78.80        74          75       11.41   \n",
       "2        qaanaaq  77.48  -69.36     22.20        73          25        2.37   \n",
       "3         zhuhai  40.71  112.04     44.60        39           0        4.47   \n",
       "4      cape town -33.93   18.42     55.99        76          20        8.05   \n",
       "..           ...    ...     ...       ...       ...         ...         ...   \n",
       "543       yabrud  33.97   36.66     80.60        32           0        8.05   \n",
       "544      paraiso  24.01 -104.61     84.20         4           5       16.11   \n",
       "545      veraval  49.65    0.71     61.00        62           0        8.05   \n",
       "546  novyy urgal  51.07  132.56     49.74        93         100        2.68   \n",
       "547      tongren  27.72  109.18     55.86        64           4        2.84   \n",
       "\n",
       "    Country        Date  \n",
       "0        RU  1558378754  \n",
       "1        MU  1558378503  \n",
       "2        GL  1558378755  \n",
       "3        CN  1558378755  \n",
       "4        ZA  1558378755  \n",
       "..      ...         ...  \n",
       "543      SY  1558378840  \n",
       "544      MX  1558378898  \n",
       "545      FR  1558378898  \n",
       "546      RU  1558378899  \n",
       "547      CN  1558378899  \n",
       "\n",
       "[548 rows x 9 columns]"
      ]
     },
     "execution_count": 41,
     "metadata": {},
     "output_type": "execute_result"
    }
   ],
   "source": [
    "#read the csv file and sort the columns\n",
    "city_weather = pd.read_csv(\"../output_data/cities.csv\", encoding=\"utf-8\")\n",
    "\n",
    "city_weather = city_weather[[\"City\", \"Lat\", \"Lng\", \"Max Temp\", \"Humidity\", \"Cloudiness\", \"Wind Speed\", \"Country\", \"Date\"]]\n",
    "\n",
    "city_weather.head()\n"
   ]
  },
  {
   "cell_type": "code",
   "execution_count": 28,
   "metadata": {},
   "outputs": [
    {
     "data": {
      "text/html": [
       "<div>\n",
       "<style scoped>\n",
       "    .dataframe tbody tr th:only-of-type {\n",
       "        vertical-align: middle;\n",
       "    }\n",
       "\n",
       "    .dataframe tbody tr th {\n",
       "        vertical-align: top;\n",
       "    }\n",
       "\n",
       "    .dataframe thead th {\n",
       "        text-align: right;\n",
       "    }\n",
       "</style>\n",
       "<table border=\"1\" class=\"dataframe\">\n",
       "  <thead>\n",
       "    <tr style=\"text-align: right;\">\n",
       "      <th></th>\n",
       "      <th>Lat</th>\n",
       "      <th>Lng</th>\n",
       "      <th>Max Temp</th>\n",
       "      <th>Humidity</th>\n",
       "      <th>Cloudiness</th>\n",
       "      <th>Wind Speed</th>\n",
       "      <th>Date</th>\n",
       "    </tr>\n",
       "  </thead>\n",
       "  <tbody>\n",
       "    <tr>\n",
       "      <th>count</th>\n",
       "      <td>548.000000</td>\n",
       "      <td>548.000000</td>\n",
       "      <td>548.000000</td>\n",
       "      <td>548.000000</td>\n",
       "      <td>548.000000</td>\n",
       "      <td>548.000000</td>\n",
       "      <td>5.480000e+02</td>\n",
       "    </tr>\n",
       "    <tr>\n",
       "      <th>mean</th>\n",
       "      <td>19.665146</td>\n",
       "      <td>20.675529</td>\n",
       "      <td>64.970785</td>\n",
       "      <td>67.671533</td>\n",
       "      <td>49.405109</td>\n",
       "      <td>8.672682</td>\n",
       "      <td>1.558379e+09</td>\n",
       "    </tr>\n",
       "    <tr>\n",
       "      <th>std</th>\n",
       "      <td>33.623560</td>\n",
       "      <td>90.307948</td>\n",
       "      <td>18.704318</td>\n",
       "      <td>23.697626</td>\n",
       "      <td>36.914201</td>\n",
       "      <td>5.865974</td>\n",
       "      <td>7.820486e+01</td>\n",
       "    </tr>\n",
       "    <tr>\n",
       "      <th>min</th>\n",
       "      <td>-54.810000</td>\n",
       "      <td>-173.230000</td>\n",
       "      <td>4.920000</td>\n",
       "      <td>4.000000</td>\n",
       "      <td>0.000000</td>\n",
       "      <td>0.540000</td>\n",
       "      <td>1.558378e+09</td>\n",
       "    </tr>\n",
       "    <tr>\n",
       "      <th>25%</th>\n",
       "      <td>-6.267500</td>\n",
       "      <td>-61.015000</td>\n",
       "      <td>53.970000</td>\n",
       "      <td>52.000000</td>\n",
       "      <td>13.750000</td>\n",
       "      <td>4.680000</td>\n",
       "      <td>1.558379e+09</td>\n",
       "    </tr>\n",
       "    <tr>\n",
       "      <th>50%</th>\n",
       "      <td>21.390000</td>\n",
       "      <td>21.240000</td>\n",
       "      <td>64.990000</td>\n",
       "      <td>71.000000</td>\n",
       "      <td>46.500000</td>\n",
       "      <td>7.010000</td>\n",
       "      <td>1.558379e+09</td>\n",
       "    </tr>\n",
       "    <tr>\n",
       "      <th>75%</th>\n",
       "      <td>47.887500</td>\n",
       "      <td>102.937500</td>\n",
       "      <td>80.600000</td>\n",
       "      <td>86.000000</td>\n",
       "      <td>81.000000</td>\n",
       "      <td>11.410000</td>\n",
       "      <td>1.558379e+09</td>\n",
       "    </tr>\n",
       "    <tr>\n",
       "      <th>max</th>\n",
       "      <td>78.220000</td>\n",
       "      <td>179.320000</td>\n",
       "      <td>104.100000</td>\n",
       "      <td>290.000000</td>\n",
       "      <td>100.000000</td>\n",
       "      <td>46.080000</td>\n",
       "      <td>1.558379e+09</td>\n",
       "    </tr>\n",
       "  </tbody>\n",
       "</table>\n",
       "</div>"
      ],
      "text/plain": [
       "              Lat         Lng    Max Temp    Humidity  Cloudiness  Wind Speed  \\\n",
       "count  548.000000  548.000000  548.000000  548.000000  548.000000  548.000000   \n",
       "mean    19.665146   20.675529   64.970785   67.671533   49.405109    8.672682   \n",
       "std     33.623560   90.307948   18.704318   23.697626   36.914201    5.865974   \n",
       "min    -54.810000 -173.230000    4.920000    4.000000    0.000000    0.540000   \n",
       "25%     -6.267500  -61.015000   53.970000   52.000000   13.750000    4.680000   \n",
       "50%     21.390000   21.240000   64.990000   71.000000   46.500000    7.010000   \n",
       "75%     47.887500  102.937500   80.600000   86.000000   81.000000   11.410000   \n",
       "max     78.220000  179.320000  104.100000  290.000000  100.000000   46.080000   \n",
       "\n",
       "               Date  \n",
       "count  5.480000e+02  \n",
       "mean   1.558379e+09  \n",
       "std    7.820486e+01  \n",
       "min    1.558378e+09  \n",
       "25%    1.558379e+09  \n",
       "50%    1.558379e+09  \n",
       "75%    1.558379e+09  \n",
       "max    1.558379e+09  "
      ]
     },
     "execution_count": 28,
     "metadata": {},
     "output_type": "execute_result"
    }
   ],
   "source": [
    "#Decribing the weather data frame\n",
    "city_weather.describe()\n"
   ]
  },
  {
   "cell_type": "markdown",
   "metadata": {},
   "source": [
    "## Inspect the data and remove the cities where the humidity > 100%.\n",
    "----\n",
    "Skip this step if there are no cities that have humidity > 100%. "
   ]
  },
  {
   "cell_type": "code",
   "execution_count": 47,
   "metadata": {},
   "outputs": [
    {
     "data": {
      "text/html": [
       "<div>\n",
       "<style scoped>\n",
       "    .dataframe tbody tr th:only-of-type {\n",
       "        vertical-align: middle;\n",
       "    }\n",
       "\n",
       "    .dataframe tbody tr th {\n",
       "        vertical-align: top;\n",
       "    }\n",
       "\n",
       "    .dataframe thead th {\n",
       "        text-align: right;\n",
       "    }\n",
       "</style>\n",
       "<table border=\"1\" class=\"dataframe\">\n",
       "  <thead>\n",
       "    <tr style=\"text-align: right;\">\n",
       "      <th></th>\n",
       "      <th>Lat</th>\n",
       "      <th>Lng</th>\n",
       "      <th>Max Temp</th>\n",
       "      <th>Humidity</th>\n",
       "      <th>Cloudiness</th>\n",
       "      <th>Wind Speed</th>\n",
       "      <th>Date</th>\n",
       "    </tr>\n",
       "  </thead>\n",
       "  <tbody>\n",
       "    <tr>\n",
       "      <th>count</th>\n",
       "      <td>547.000000</td>\n",
       "      <td>547.000000</td>\n",
       "      <td>547.000000</td>\n",
       "      <td>547.000000</td>\n",
       "      <td>547.000000</td>\n",
       "      <td>547.000000</td>\n",
       "      <td>5.470000e+02</td>\n",
       "    </tr>\n",
       "    <tr>\n",
       "      <th>mean</th>\n",
       "      <td>19.710402</td>\n",
       "      <td>20.861609</td>\n",
       "      <td>64.975119</td>\n",
       "      <td>67.265082</td>\n",
       "      <td>49.495430</td>\n",
       "      <td>8.657057</td>\n",
       "      <td>1.558379e+09</td>\n",
       "    </tr>\n",
       "    <tr>\n",
       "      <th>std</th>\n",
       "      <td>33.637627</td>\n",
       "      <td>90.285396</td>\n",
       "      <td>18.721163</td>\n",
       "      <td>21.723477</td>\n",
       "      <td>36.887333</td>\n",
       "      <td>5.859917</td>\n",
       "      <td>7.826709e+01</td>\n",
       "    </tr>\n",
       "    <tr>\n",
       "      <th>min</th>\n",
       "      <td>-54.810000</td>\n",
       "      <td>-173.230000</td>\n",
       "      <td>4.920000</td>\n",
       "      <td>4.000000</td>\n",
       "      <td>0.000000</td>\n",
       "      <td>0.540000</td>\n",
       "      <td>1.558378e+09</td>\n",
       "    </tr>\n",
       "    <tr>\n",
       "      <th>25%</th>\n",
       "      <td>-6.315000</td>\n",
       "      <td>-60.820000</td>\n",
       "      <td>53.940000</td>\n",
       "      <td>52.000000</td>\n",
       "      <td>14.000000</td>\n",
       "      <td>4.680000</td>\n",
       "      <td>1.558379e+09</td>\n",
       "    </tr>\n",
       "    <tr>\n",
       "      <th>50%</th>\n",
       "      <td>21.430000</td>\n",
       "      <td>21.550000</td>\n",
       "      <td>64.990000</td>\n",
       "      <td>71.000000</td>\n",
       "      <td>47.000000</td>\n",
       "      <td>7.000000</td>\n",
       "      <td>1.558379e+09</td>\n",
       "    </tr>\n",
       "    <tr>\n",
       "      <th>75%</th>\n",
       "      <td>47.895000</td>\n",
       "      <td>103.165000</td>\n",
       "      <td>80.600000</td>\n",
       "      <td>86.000000</td>\n",
       "      <td>81.000000</td>\n",
       "      <td>11.410000</td>\n",
       "      <td>1.558379e+09</td>\n",
       "    </tr>\n",
       "    <tr>\n",
       "      <th>max</th>\n",
       "      <td>78.220000</td>\n",
       "      <td>179.320000</td>\n",
       "      <td>104.100000</td>\n",
       "      <td>100.000000</td>\n",
       "      <td>100.000000</td>\n",
       "      <td>46.080000</td>\n",
       "      <td>1.558379e+09</td>\n",
       "    </tr>\n",
       "  </tbody>\n",
       "</table>\n",
       "</div>"
      ],
      "text/plain": [
       "              Lat         Lng    Max Temp    Humidity  Cloudiness  Wind Speed  \\\n",
       "count  547.000000  547.000000  547.000000  547.000000  547.000000  547.000000   \n",
       "mean    19.710402   20.861609   64.975119   67.265082   49.495430    8.657057   \n",
       "std     33.637627   90.285396   18.721163   21.723477   36.887333    5.859917   \n",
       "min    -54.810000 -173.230000    4.920000    4.000000    0.000000    0.540000   \n",
       "25%     -6.315000  -60.820000   53.940000   52.000000   14.000000    4.680000   \n",
       "50%     21.430000   21.550000   64.990000   71.000000   47.000000    7.000000   \n",
       "75%     47.895000  103.165000   80.600000   86.000000   81.000000   11.410000   \n",
       "max     78.220000  179.320000  104.100000  100.000000  100.000000   46.080000   \n",
       "\n",
       "               Date  \n",
       "count  5.470000e+02  \n",
       "mean   1.558379e+09  \n",
       "std    7.826709e+01  \n",
       "min    1.558378e+09  \n",
       "25%    1.558379e+09  \n",
       "50%    1.558379e+09  \n",
       "75%    1.558379e+09  \n",
       "max    1.558379e+09  "
      ]
     },
     "execution_count": 47,
     "metadata": {},
     "output_type": "execute_result"
    }
   ],
   "source": [
    "#found 1 line has a humidity over 100, filter it out and re-describing the data frame\n",
    "city_weather_df=city_weather[city_weather['Humidity'] <= 100]\n",
    "\n",
    "city_weather_df.describe()\n"
   ]
  },
  {
   "cell_type": "code",
   "execution_count": 53,
   "metadata": {},
   "outputs": [
    {
     "data": {
      "text/plain": [
       "Int64Index([129], dtype='int64')"
      ]
     },
     "execution_count": 53,
     "metadata": {},
     "output_type": "execute_result"
    }
   ],
   "source": [
    "city_weather.loc[city_weather['Humidity'] > 100].index\n"
   ]
  },
  {
   "cell_type": "code",
   "execution_count": 60,
   "metadata": {},
   "outputs": [
    {
     "name": "stdout",
     "output_type": "stream",
     "text": [
      "Values below 1.0 could be outliers.\n",
      "Values above 137.0 could be outliers.\n"
     ]
    }
   ],
   "source": [
    "#find what value might be outliers\n",
    "\n",
    "city_humidity = city_weather['Humidity']\n",
    "quartiles = city_humidity.quantile([.25,.5,.75])\n",
    "lowerq = quartiles[0.25]\n",
    "upperq = quartiles[0.75]\n",
    "iqr = upperq-lowerq\n",
    "\n",
    "lower_bound = lowerq - (1.5*iqr)\n",
    "upper_bound = upperq + (1.5*iqr)\n",
    "print(f\"Values below {lower_bound} could be outliers.\")\n",
    "print(f\"Values above {upper_bound} could be outliers.\")"
   ]
  },
  {
   "cell_type": "code",
   "execution_count": 73,
   "metadata": {},
   "outputs": [
    {
     "data": {
      "text/html": [
       "<div>\n",
       "<style scoped>\n",
       "    .dataframe tbody tr th:only-of-type {\n",
       "        vertical-align: middle;\n",
       "    }\n",
       "\n",
       "    .dataframe tbody tr th {\n",
       "        vertical-align: top;\n",
       "    }\n",
       "\n",
       "    .dataframe thead th {\n",
       "        text-align: right;\n",
       "    }\n",
       "</style>\n",
       "<table border=\"1\" class=\"dataframe\">\n",
       "  <thead>\n",
       "    <tr style=\"text-align: right;\">\n",
       "      <th></th>\n",
       "      <th>City</th>\n",
       "      <th>Lat</th>\n",
       "      <th>Lng</th>\n",
       "      <th>Max Temp</th>\n",
       "      <th>Humidity</th>\n",
       "      <th>Cloudiness</th>\n",
       "      <th>Wind Speed</th>\n",
       "      <th>Country</th>\n",
       "      <th>Date</th>\n",
       "    </tr>\n",
       "  </thead>\n",
       "  <tbody>\n",
       "    <tr>\n",
       "      <th>0</th>\n",
       "      <td>ostrovnoy</td>\n",
       "      <td>68.05</td>\n",
       "      <td>39.51</td>\n",
       "      <td>37.50</td>\n",
       "      <td>72</td>\n",
       "      <td>2</td>\n",
       "      <td>7.16</td>\n",
       "      <td>RU</td>\n",
       "      <td>1558378754</td>\n",
       "    </tr>\n",
       "    <tr>\n",
       "      <th>1</th>\n",
       "      <td>mahebourg</td>\n",
       "      <td>-20.41</td>\n",
       "      <td>57.70</td>\n",
       "      <td>78.80</td>\n",
       "      <td>74</td>\n",
       "      <td>75</td>\n",
       "      <td>11.41</td>\n",
       "      <td>MU</td>\n",
       "      <td>1558378503</td>\n",
       "    </tr>\n",
       "    <tr>\n",
       "      <th>2</th>\n",
       "      <td>qaanaaq</td>\n",
       "      <td>77.48</td>\n",
       "      <td>-69.36</td>\n",
       "      <td>22.20</td>\n",
       "      <td>73</td>\n",
       "      <td>25</td>\n",
       "      <td>2.37</td>\n",
       "      <td>GL</td>\n",
       "      <td>1558378755</td>\n",
       "    </tr>\n",
       "    <tr>\n",
       "      <th>3</th>\n",
       "      <td>zhuhai</td>\n",
       "      <td>40.71</td>\n",
       "      <td>112.04</td>\n",
       "      <td>44.60</td>\n",
       "      <td>39</td>\n",
       "      <td>0</td>\n",
       "      <td>4.47</td>\n",
       "      <td>CN</td>\n",
       "      <td>1558378755</td>\n",
       "    </tr>\n",
       "    <tr>\n",
       "      <th>4</th>\n",
       "      <td>cape town</td>\n",
       "      <td>-33.93</td>\n",
       "      <td>18.42</td>\n",
       "      <td>55.99</td>\n",
       "      <td>76</td>\n",
       "      <td>20</td>\n",
       "      <td>8.05</td>\n",
       "      <td>ZA</td>\n",
       "      <td>1558378755</td>\n",
       "    </tr>\n",
       "  </tbody>\n",
       "</table>\n",
       "</div>"
      ],
      "text/plain": [
       "        City    Lat     Lng  Max Temp  Humidity  Cloudiness  Wind Speed  \\\n",
       "0  ostrovnoy  68.05   39.51     37.50        72           2        7.16   \n",
       "1  mahebourg -20.41   57.70     78.80        74          75       11.41   \n",
       "2    qaanaaq  77.48  -69.36     22.20        73          25        2.37   \n",
       "3     zhuhai  40.71  112.04     44.60        39           0        4.47   \n",
       "4  cape town -33.93   18.42     55.99        76          20        8.05   \n",
       "\n",
       "  Country        Date  \n",
       "0      RU  1558378754  \n",
       "1      MU  1558378503  \n",
       "2      GL  1558378755  \n",
       "3      CN  1558378755  \n",
       "4      ZA  1558378755  "
      ]
     },
     "execution_count": 73,
     "metadata": {},
     "output_type": "execute_result"
    }
   ],
   "source": [
    "# Make a new DataFrame equal to the city data to drop all humidity outliers by index.\n",
    "\n",
    "#specify the column Humidity\n",
    "cols = ['Humidity']\n",
    "Q1 = clean_city_data[cols].quantile(0.25)\n",
    "Q3 = clean_city_data[cols].quantile(0.75)\n",
    "IQR = Q3 - Q1\n",
    "\n",
    "clean_city_data = city_weather[~((city_weather[cols] < (Q1 - 1.5 * IQR)) |(city_weather[cols] > (Q3 + 1.5 * IQR))).any(axis=1)]\n",
    "\n",
    "clean_city_data.head()\n",
    "        "
   ]
  },
  {
   "cell_type": "markdown",
   "metadata": {},
   "source": [
    "## Plotting the Data\n",
    "* Use proper labeling of the plots using plot titles (including date of analysis) and axes labels.\n",
    "* Save the plotted figures as .pngs."
   ]
  },
  {
   "cell_type": "markdown",
   "metadata": {},
   "source": [
    "## Latitude vs. Temperature Plot"
   ]
  },
  {
   "cell_type": "code",
   "execution_count": 82,
   "metadata": {},
   "outputs": [
    {
     "data": {
      "image/png": "[encoded data removed]",
      "text/plain": [
       "<Figure size 432x288 with 1 Axes>"
      ]
     },
     "metadata": {
      "needs_background": "light"
     },
     "output_type": "display_data"
    }
   ],
   "source": [
    "# Create Latitude vs. Temperature Plot scatter plot\n",
    "plt.scatter(clean_city_data[\"Lat\"], clean_city_data[\"Max Temp\"], facecolor = \"steelblue\", edgecolor = \"black\")\n",
    "#set titles\n",
    "plt.title(\"City Latitude vs. Max Temperature (10/28/20)\")\n",
    "#set labels\n",
    "plt.xlabel(\"Latitude\")\n",
    "plt.ylabel(\"Max Temperature (F)\")\n",
    "#set grid line\n",
    "plt.grid(linestyle='-', linewidth=1, alpha = 0.5)\n",
    "\n",
    "#save the plotted figure\n",
    "plt.savefig(\"../output_data/fig1.png\")\n",
    "plt.show()\n"
   ]
  },
  {
   "cell_type": "markdown",
   "metadata": {},
   "source": [
    "## Latitude vs. Humidity Plot"
   ]
  },
  {
   "cell_type": "code",
   "execution_count": 83,
   "metadata": {},
   "outputs": [
    {
     "data": {
      "image/png": "[encoded data removed]",
      "text/plain": [
       "<Figure size 432x288 with 1 Axes>"
      ]
     },
     "metadata": {
      "needs_background": "light"
     },
     "output_type": "display_data"
    }
   ],
   "source": [
    "# Create Latitude vs. Humidity Plot scatter plot\n",
    "plt.scatter(clean_city_data[\"Lat\"], clean_city_data[\"Humidity\"], facecolor = \"steelblue\", edgecolor = \"black\")\n",
    "#set titles\n",
    "plt.title(\"City Latitude vs. Humidity (10/28/20)\")\n",
    "#set labels\n",
    "plt.xlabel(\"Latitude\")\n",
    "plt.ylabel(\"Humidity (%)\")\n",
    "#set grid line\n",
    "plt.grid(linestyle='-', linewidth=1, alpha = 0.5)\n",
    "\n",
    "#save the plotted figure\n",
    "plt.savefig(\"../output_data/fig2.png\")\n",
    "plt.show()\n"
   ]
  },
  {
   "cell_type": "markdown",
   "metadata": {},
   "source": [
    "## Latitude vs. Cloudiness Plot"
   ]
  },
  {
   "cell_type": "code",
   "execution_count": 84,
   "metadata": {},
   "outputs": [
    {
     "data": {
      "image/png": "[encoded data removed]",
      "text/plain": [
       "<Figure size 432x288 with 1 Axes>"
      ]
     },
     "metadata": {
      "needs_background": "light"
     },
     "output_type": "display_data"
    }
   ],
   "source": [
    "# Create Latitude vs. Cloudiness Plot scatter plot\n",
    "plt.scatter(clean_city_data[\"Lat\"], clean_city_data[\"Cloudiness\"], facecolor = \"steelblue\", edgecolor = \"black\")\n",
    "#set titles\n",
    "plt.title(\"City Latitude vs. Cloudiness (10/28/20)\")\n",
    "#set labels\n",
    "plt.xlabel(\"Latitude\")\n",
    "plt.ylabel(\"Cloudiness (%)\")\n",
    "plt.ylim(-5,105)\n",
    "#set grid line\n",
    "plt.grid(linestyle='-', linewidth=1, alpha = 0.5)\n",
    "\n",
    "#save the plotted figure\n",
    "plt.savefig(\"../output_data/fig3.png\")\n",
    "plt.show()\n"
   ]
  },
  {
   "cell_type": "markdown",
   "metadata": {},
   "source": [
    "## Latitude vs. Wind Speed Plot"
   ]
  },
  {
   "cell_type": "code",
   "execution_count": 86,
   "metadata": {},
   "outputs": [
    {
     "data": {
      "image/png": "[encoded data removed]",
      "text/plain": [
       "<Figure size 432x288 with 1 Axes>"
      ]
     },
     "metadata": {
      "needs_background": "light"
     },
     "output_type": "display_data"
    }
   ],
   "source": [
    "# Create Latitude vs. Cloudiness Plot scatter plot\n",
    "plt.scatter(clean_city_data[\"Lat\"], clean_city_data[\"Wind Speed\"], facecolor = \"steelblue\", edgecolor = \"black\")\n",
    "#set titles\n",
    "plt.title(\"City Latitude vs. Wind Speed (10/28/20)\")\n",
    "#set labels\n",
    "plt.xlabel(\"Latitude\")\n",
    "plt.ylabel(\"Wind Speed (%)\")\n",
    "plt.ylim(-2,50)\n",
    "#set grid line\n",
    "plt.grid(linestyle='-', linewidth=1, alpha = 0.5)\n",
    "\n",
    "#save the plotted figure\n",
    "plt.savefig(\"../output_data/fig4.png\")\n",
    "plt.show()\n"
   ]
  },
  {
   "cell_type": "markdown",
   "metadata": {},
   "source": [
    "## Linear Regression"
   ]
  },
  {
   "cell_type": "code",
   "execution_count": 88,
   "metadata": {},
   "outputs": [],
   "source": [
    "# Create Northern and Southern Hemisphere DataFrames\n",
    "northern = clean_city_data.loc[clean_city_data[\"Lat\"] >= 0]\n",
    "southern = clean_city_data.loc[clean_city_data[\"Lat\"] < 0]\n"
   ]
  },
  {
   "cell_type": "markdown",
   "metadata": {},
   "source": [
    "####  Northern Hemisphere - Max Temp vs. Latitude Linear Regression"
   ]
  },
  {
   "cell_type": "code",
   "execution_count": 25,
   "metadata": {},
   "outputs": [
    {
     "name": "stdout",
     "output_type": "stream",
     "text": [
      "The r-value is: 0.46937863826630627\n"
     ]
    },
    {
     "data": {
      "image/png": "[encoded data removed]",
      "text/plain": [
       "<Figure size 432x288 with 1 Axes>"
      ]
     },
     "metadata": {
      "needs_background": "light"
     },
     "output_type": "display_data"
    }
   ],
   "source": []
  },
  {
   "cell_type": "markdown",
   "metadata": {},
   "source": [
    "####  Southern Hemisphere - Max Temp vs. Latitude Linear Regression"
   ]
  },
  {
   "cell_type": "code",
   "execution_count": 26,
   "metadata": {},
   "outputs": [
    {
     "name": "stdout",
     "output_type": "stream",
     "text": [
      "The r-value is: 0.6082708688906918\n"
     ]
    },
    {
     "data": {
      "image/png": "[encoded data removed]",
      "text/plain": [
       "<Figure size 432x288 with 1 Axes>"
      ]
     },
     "metadata": {
      "needs_background": "light"
     },
     "output_type": "display_data"
    }
   ],
   "source": []
  },
  {
   "cell_type": "markdown",
   "metadata": {},
   "source": [
    "####  Northern Hemisphere - Humidity (%) vs. Latitude Linear Regression"
   ]
  },
  {
   "cell_type": "code",
   "execution_count": 27,
   "metadata": {},
   "outputs": [
    {
     "name": "stdout",
     "output_type": "stream",
     "text": [
      "The r-value is: 0.000543987878808455\n"
     ]
    },
    {
     "data": {
      "image/png": "[encoded data removed]",
      "text/plain": [
       "<Figure size 432x288 with 1 Axes>"
      ]
     },
     "metadata": {
      "needs_background": "light"
     },
     "output_type": "display_data"
    }
   ],
   "source": []
  },
  {
   "cell_type": "markdown",
   "metadata": {},
   "source": [
    "####  Southern Hemisphere - Humidity (%) vs. Latitude Linear Regression"
   ]
  },
  {
   "cell_type": "code",
   "execution_count": 28,
   "metadata": {},
   "outputs": [
    {
     "name": "stdout",
     "output_type": "stream",
     "text": [
      "The r-value is: 0.014985174297345524\n"
     ]
    },
    {
     "data": {
      "image/png": "[encoded data removed]",
      "text/plain": [
       "<Figure size 432x288 with 1 Axes>"
      ]
     },
     "metadata": {
      "needs_background": "light"
     },
     "output_type": "display_data"
    }
   ],
   "source": []
  },
  {
   "cell_type": "markdown",
   "metadata": {},
   "source": [
    "####  Northern Hemisphere - Cloudiness (%) vs. Latitude Linear Regression"
   ]
  },
  {
   "cell_type": "code",
   "execution_count": 29,
   "metadata": {},
   "outputs": [
    {
     "name": "stdout",
     "output_type": "stream",
     "text": [
      "The r-value is: 0.0020898727664228514\n"
     ]
    },
    {
     "data": {
      "image/png": "[encoded data removed]",
      "text/plain": [
       "<Figure size 432x288 with 1 Axes>"
      ]
     },
     "metadata": {
      "needs_background": "light"
     },
     "output_type": "display_data"
    }
   ],
   "source": []
  },
  {
   "cell_type": "markdown",
   "metadata": {},
   "source": [
    "####  Southern Hemisphere - Cloudiness (%) vs. Latitude Linear Regression"
   ]
  },
  {
   "cell_type": "code",
   "execution_count": 30,
   "metadata": {},
   "outputs": [
    {
     "name": "stdout",
     "output_type": "stream",
     "text": [
      "The r-value is: 0.0035263772085582894\n"
     ]
    },
    {
     "data": {
      "image/png": "[encoded data removed]",
      "text/plain": [
       "<Figure size 432x288 with 1 Axes>"
      ]
     },
     "metadata": {
      "needs_background": "light"
     },
     "output_type": "display_data"
    }
   ],
   "source": []
  },
  {
   "cell_type": "markdown",
   "metadata": {},
   "source": [
    "####  Northern Hemisphere - Wind Speed (mph) vs. Latitude Linear Regression"
   ]
  },
  {
   "cell_type": "code",
   "execution_count": 31,
   "metadata": {},
   "outputs": [
    {
     "name": "stdout",
     "output_type": "stream",
     "text": [
      "The r-value is: 0.04019723576144484\n"
     ]
    },
    {
     "data": {
      "image/png": "[encoded data removed]",
      "text/plain": [
       "<Figure size 432x288 with 1 Axes>"
      ]
     },
     "metadata": {
      "needs_background": "light"
     },
     "output_type": "display_data"
    }
   ],
   "source": []
  },
  {
   "cell_type": "markdown",
   "metadata": {},
   "source": [
    "####  Southern Hemisphere - Wind Speed (mph) vs. Latitude Linear Regression"
   ]
  },
  {
   "cell_type": "code",
   "execution_count": 32,
   "metadata": {},
   "outputs": [
    {
     "name": "stdout",
     "output_type": "stream",
     "text": [
      "The r-value is: 0.017128274759839232\n"
     ]
    },
    {
     "data": {
      "image/png": "[encoded data removed]",
      "text/plain": [
       "<Figure size 432x288 with 1 Axes>"
      ]
     },
     "metadata": {
      "needs_background": "light"
     },
     "output_type": "display_data"
    }
   ],
   "source": []
  },
  {
   "cell_type": "code",
   "execution_count": null,
   "metadata": {},
   "outputs": [],
   "source": []
  }
 ],
 "metadata": {
  "anaconda-cloud": {},
  "kernel_info": {
   "name": "python3"
  },
  "kernelspec": {
   "display_name": "Python [conda env:PthonData] *",
   "language": "python",
   "name": "conda-env-PthonData-py"
  },
  "language_info": {
   "codemirror_mode": {
    "name": "ipython",
    "version": 3
   },
   "file_extension": ".py",
   "mimetype": "text/x-python",
   "name": "python",
   "nbconvert_exporter": "python",
   "pygments_lexer": "ipython3",
   "version": "3.7.1"
  },
  "latex_envs": {
   "LaTeX_envs_menu_present": true,
   "autoclose": false,
   "autocomplete": true,
   "bibliofile": "biblio.bib",
   "cite_by": "apalike",
   "current_citInitial": 1,
   "eqLabelWithNumbers": true,
   "eqNumInitial": 1,
   "hotkeys": {
    "equation": "Ctrl-E",
    "itemize": "Ctrl-I"
   },
   "labels_anchors": false,
   "latex_user_defs": false,
   "report_style_numbering": false,
   "user_envs_cfg": false
  },
  "nteract": {
   "version": "0.12.3"
  }
 },
 "nbformat": 4,
 "nbformat_minor": 2
}
